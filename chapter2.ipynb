{
 "cells": [
  {
   "cell_type": "markdown",
   "metadata": {},
   "source": [
    "## Problem 2.1"
   ]
  },
  {
   "cell_type": "markdown",
   "metadata": {},
   "source": [
    "$\\epsilon = \\sqrt{\\frac{1}{2N}\\ln\\frac{2M}{\\delta}} \\leq n$  \n",
    "$N \\geq \\frac{1}{2n^2}\\ln\\frac{2M}{\\delta}$"
   ]
  },
  {
   "cell_type": "markdown",
   "metadata": {},
   "source": [
    "$\\epsilon$是$E_{in}(g)$和$E_{out}(g)$差距的容忍度。差距大于$\\epsilon$的概率可以很小。  \n",
    "$\\delta$是$E_{in}(g)$和$E_{out}(g)$差距大于$\\epsilon$的概率的容忍度。差距大于$\\epsilon$的概率最大有多小。"
   ]
  },
  {
   "cell_type": "code",
   "execution_count": 3,
   "metadata": {},
   "outputs": [],
   "source": [
    "import math"
   ]
  },
  {
   "cell_type": "code",
   "execution_count": 6,
   "metadata": {},
   "outputs": [],
   "source": [
    "# give tolerance level delta and hypotheses number M, calculate example N\n",
    "def cal_N(M, delta, n):\n",
    "    return 1 / (2 * n**2) * math.log(2*M / delta)"
   ]
  },
  {
   "cell_type": "code",
   "execution_count": 10,
   "metadata": {},
   "outputs": [],
   "source": [
    "N_1 = cal_N(1, 0.03, 0.05)\n",
    "N_100 = cal_N(100, 0.03, 0.05)\n",
    "N_10000 = cal_N(10000, 0.03, 0.05)"
   ]
  },
  {
   "cell_type": "code",
   "execution_count": 12,
   "metadata": {},
   "outputs": [
    {
     "name": "stdout",
     "output_type": "stream",
     "text": [
      "delta=0.03, n=0.05\n",
      "M=1,     N =  839.9410155759854\n",
      "M=100,   N =  1760.9750527736035\n",
      "M=10000, N =  2682.009089971222\n"
     ]
    }
   ],
   "source": [
    "print(\"delta=0.03, n=0.05\")\n",
    "print(\"M=1,     N = \", N_1)\n",
    "print(\"M=100,   N = \", N_100)\n",
    "print(\"M=10000, N = \", N_10000)"
   ]
  },
  {
   "cell_type": "markdown",
   "metadata": {},
   "source": [
    "---"
   ]
  },
  {
   "cell_type": "markdown",
   "metadata": {},
   "source": [
    "## Problem 2.2"
   ]
  },
  {
   "cell_type": "code",
   "execution_count": 23,
   "metadata": {},
   "outputs": [],
   "source": [
    "import matplotlib.pyplot as plt\n",
    "import matplotlib.patches as patches"
   ]
  },
  {
   "cell_type": "code",
   "execution_count": 16,
   "metadata": {},
   "outputs": [
    {
     "data": {
      "text/plain": [
       "Text(0.5, 1.0, '4 points can shatter')"
      ]
     },
     "execution_count": 16,
     "metadata": {},
     "output_type": "execute_result"
    },
    {
     "data": {
      "image/png": "[encoded data removed]",
      "text/plain": [
       "<Figure size 432x288 with 1 Axes>"
      ]
     },
     "metadata": {
      "needs_background": "light"
     },
     "output_type": "display_data"
    }
   ],
   "source": [
    "plt.scatter([1, 2, 2, 3], [2, 1, 3, 2])\n",
    "plt.title(\"4 points can be shattered\")"
   ]
  },
  {
   "cell_type": "code",
   "execution_count": 39,
   "metadata": {},
   "outputs": [
    {
     "data": {
      "text/plain": [
       "Text(0.5, 1.0, '5 points can not be shattered')"
      ]
     },
     "execution_count": 39,
     "metadata": {},
     "output_type": "execute_result"
    },
    {
     "data": {
      "image/png": "[encoded data removed]",
      "text/plain": [
       "<Figure size 432x288 with 1 Axes>"
      ]
     },
     "metadata": {
      "needs_background": "light"
     },
     "output_type": "display_data"
    }
   ],
   "source": [
    "plt.scatter([1, 2, 3], [2, 2, 2])\n",
    "plt.scatter([2, 2], [1, 3])\n",
    "rect = patches.Rectangle((1.5, 0), 1, 3.5, alpha=-50)\n",
    "plt.gca().add_patch(rect)\n",
    "plt.title(\"5 points can not be shattered\")"
   ]
  },
  {
   "cell_type": "markdown",
   "metadata": {},
   "source": [
    "$d_vc = 4$  \n",
    "$m_H(N) \\leq N^{d_vc} + 1 = N^4+1$"
   ]
  },
  {
   "cell_type": "markdown",
   "metadata": {},
   "source": [
    "---"
   ]
  },
  {
   "cell_type": "markdown",
   "metadata": {},
   "source": [
    "## Problem 2.3"
   ]
  },
  {
   "cell_type": "markdown",
   "metadata": {},
   "source": [
    "### (a)\n",
    "$m_H(N)=2(N-1)+2=2N$  \n",
    "$d_vc$ = 2"
   ]
  },
  {
   "cell_type": "markdown",
   "metadata": {},
   "source": [
    "### (b)\n",
    "$m_H(N)=2C_{N-1}^2+2C_{N-1}^{1}+2=(N-1)(N-2)+2(N-1)+2=N^2-N+2$  \n",
    "$d_vc=3$"
   ]
  },
  {
   "cell_type": "markdown",
   "metadata": {},
   "source": [
    "### (c) \n",
    "$m_H(N)=C^{N+1}{2}+1=\\frac{N^2}{2}+\\frac{N}{2}+1$  \n",
    "$d_vc = 3$"
   ]
  },
  {
   "cell_type": "markdown",
   "metadata": {},
   "source": [
    "---"
   ]
  },
  {
   "cell_type": "markdown",
   "metadata": {},
   "source": [
    "## Problem 2.4"
   ]
  },
  {
   "cell_type": "markdown",
   "metadata": {},
   "source": [
    "$k$表示长度为$k$的任何子集不能被shatter。现在设有$N$个点，每个长度为$k$的子集中，$-1$的点不能超过$k-1$个，所以这样的子集有$\\sum_{i=0}^{k-1}C_N^i$个。  \n",
    "$B(N,k)$表示的是，break point为k时，$m_H(N)$的最大值，集N个点最多有多少个dichotomy。所以在这题我们的设定里，就表示长度为$k$的子集，有多少种形式。考虑还有$k$个点都为$-1$的情况，所以:$$B(N,k) \\geq \\sum_{i=0}^{k-1}C_N^i$$\n",
    "又知Lemma 2.3，最终得：以:$$B(N,k) = \\sum_{i=0}^{k-1}C_N^i$$\n",
    "\n"
   ]
  },
  {
   "cell_type": "markdown",
   "metadata": {},
   "source": [
    "---"
   ]
  },
  {
   "cell_type": "markdown",
   "metadata": {},
   "source": [
    "## Problem 2.7"
   ]
  },
  {
   "cell_type": "code",
   "execution_count": 18,
   "metadata": {},
   "outputs": [],
   "source": [
    "from math import e\n",
    "import matplotlib.pyplot as plt"
   ]
  },
  {
   "cell_type": "code",
   "execution_count": 19,
   "metadata": {},
   "outputs": [],
   "source": [
    "def bound2_5(d, N):\n",
    "    return [(n**d + 1) for n in range(N)]"
   ]
  },
  {
   "cell_type": "code",
   "execution_count": 20,
   "metadata": {},
   "outputs": [],
   "source": [
    "def bound2_6(d, N):\n",
    "    return [(e * n / d)**d for n in range(N)]"
   ]
  },
  {
   "cell_type": "code",
   "execution_count": 24,
   "metadata": {},
   "outputs": [],
   "source": [
    "# dvc = 2, N = 10000\n",
    "m_25_2 = bound2_5(2, 1000)\n",
    "m_26_2 = bound2_6(2, 1000)\n",
    "# dvc = 5, N = 10000\n",
    "m_25_5 = bound2_5(5, 1000)\n",
    "m_26_5 = bound2_6(5, 1000)"
   ]
  },
  {
   "cell_type": "code",
   "execution_count": 45,
   "metadata": {},
   "outputs": [
    {
     "data": {
      "text/plain": [
       "<matplotlib.legend.Legend at 0x1e7565dce10>"
      ]
     },
     "execution_count": 45,
     "metadata": {},
     "output_type": "execute_result"
    },
    {
     "data": {
      "image/png": "[encoded data removed]",
      "text/plain": [
       "<Figure size 432x288 with 1 Axes>"
      ]
     },
     "metadata": {
      "needs_background": "light"
     },
     "output_type": "display_data"
    }
   ],
   "source": [
    "plt.plot(range(1000), m_25_2, label=r\"$N^{d_{vc}}+1$, $d_vc=2$\")\n",
    "plt.plot(range(1000), m_26_2, label=r\"$(\\frac{eN}{d_{vc}})^{d_{vc}}$, $d_vc=2$\")\n",
    "plt.legend()"
   ]
  },
  {
   "cell_type": "code",
   "execution_count": 46,
   "metadata": {},
   "outputs": [
    {
     "data": {
      "text/plain": [
       "<matplotlib.legend.Legend at 0x1e7590d8dd8>"
      ]
     },
     "execution_count": 46,
     "metadata": {},
     "output_type": "execute_result"
    },
    {
     "data": {
      "image/png": "[encoded data removed]",
      "text/plain": [
       "<Figure size 432x288 with 1 Axes>"
      ]
     },
     "metadata": {
      "needs_background": "light"
     },
     "output_type": "display_data"
    }
   ],
   "source": [
    "plt.plot(range(1000), m_25_5, label=\"$N^{d_{vc}}+1$, $d_vc=5$\")\n",
    "plt.plot(range(1000), m_26_5, label=r\"$(\\frac{eN}{d_{vc}})^{d_{vc}}$, $d_vc=5$\")\n",
    "plt.legend()"
   ]
  },
  {
   "cell_type": "markdown",
   "metadata": {},
   "source": [
    "当$d_vc=2$时，$N^{d_{vc}}+1$上界更好  \n",
    "当$d_vc=5$时，$(\\frac{eN}{d})^{d_{vc}}$上界更好 \n",
    "$(\\frac{eN}{d_{vc}})^{d_{vc}} = (\\frac{e}{d_{vc}})^{d_{vc}}N^{d_{vc}}$ 与 $N^{d_{vc}}+1$做比较。  \n",
    "因此只需判断$\\frac{e}{d_{vc}}$的大小,$d_{vc} \\gt 2$,时小于1，反之大于1。越小的越好。"
   ]
  },
  {
   "cell_type": "markdown",
   "metadata": {},
   "source": [
    "---"
   ]
  },
  {
   "cell_type": "markdown",
   "metadata": {},
   "source": [
    "----"
   ]
  },
  {
   "cell_type": "markdown",
   "metadata": {},
   "source": [
    "## Problem 2.8"
   ]
  },
  {
   "cell_type": "markdown",
   "metadata": {},
   "source": [
    "$m_H(N)$最大是$2^N$,或者为一多项式，所以除了$2^{\\lfloor \\sqrt N \\rfloor}$和$2^{\\lfloor N/2 \\rfloor}$外，其他都可以是成长函数。"
   ]
  },
  {
   "cell_type": "code",
   "execution_count": null,
   "metadata": {},
   "outputs": [],
   "source": []
  }
 ],
 "metadata": {
  "kernelspec": {
   "display_name": "Python [conda env:tfenv]",
   "language": "python",
   "name": "conda-env-tfenv-py"
  },
  "language_info": {
   "codemirror_mode": {
    "name": "ipython",
    "version": 3
   },
   "file_extension": ".py",
   "mimetype": "text/x-python",
   "name": "python",
   "nbconvert_exporter": "python",
   "pygments_lexer": "ipython3",
   "version": "3.6.6"
  }
 },
 "nbformat": 4,
 "nbformat_minor": 2
}
