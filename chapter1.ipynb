{
 "cells": [
  {
   "cell_type": "markdown",
   "metadata": {},
   "source": [
    "{+1, -1}！千万别{+1,0}"
   ]
  },
  {
   "cell_type": "markdown",
   "metadata": {},
   "source": [
    "## Exercise 1.10"
   ]
  },
  {
   "cell_type": "markdown",
   "metadata": {},
   "source": [
    "Here is an experiment that illustrates the difference between a single bin and multiple bins. Run a computer simulation for flipping 1000 fair coins. Flip each coin independently times. Let's focus on 3 coins as follows: $c_1$ is the first coin flipped; $c_{rand}$ is a coin you choose at random; $c_{min}$ is the coin that had the minimum frequency of heads (pick the earlier one in case of a tie) . Let $v_1$ , $v_{rand}$ and $v_{min}$ be the fraction of heads you obtain for the respective three coins."
   ]
  },
  {
   "cell_type": "code",
   "execution_count": 1,
   "metadata": {},
   "outputs": [],
   "source": [
    "import numpy as np"
   ]
  },
  {
   "cell_type": "code",
   "execution_count": 2,
   "metadata": {},
   "outputs": [],
   "source": [
    "# n_coins枚硬币投f_times次\n",
    "def get_coins(n_coins, f_times):\n",
    "    coins = np.zeros((n_coins, f_times))\n",
    "    mini_index = -1\n",
    "\n",
    "    # 1 is heads, 0 is back \n",
    "    for i in range(n_coins):\n",
    "        coins[i] = np.random.randint(0, 2, size=f_times)\n",
    "\n",
    "    coins_sum = coins.sum(axis=1)\n",
    "    mini_sum = coins_sum[0]\n",
    "    # get cmin\n",
    "    for i in range(1, n_coins):\n",
    "        if(coins_sum[i] < mini_sum):\n",
    "            mini_sum = coins_sum[i]\n",
    "            mini_index = i\n",
    "    # 返回硬币和正面朝上最少硬币的索引\n",
    "    return coins, mini_index"
   ]
  },
  {
   "cell_type": "code",
   "execution_count": 3,
   "metadata": {},
   "outputs": [],
   "source": [
    "coins, mini_index = get_coins(1000, 10)"
   ]
  },
  {
   "cell_type": "code",
   "execution_count": 4,
   "metadata": {},
   "outputs": [
    {
     "name": "stdout",
     "output_type": "stream",
     "text": [
      "c1 =  [0. 1. 1. 0. 1. 1. 0. 0. 0. 1.]\n",
      "c_rand =  [1. 0. 1. 1. 1. 0. 1. 1. 0. 0.]\n",
      "c_min =  [0. 0. 0. 0. 0. 0. 0. 0. 0. 0.]\n",
      "mini_index 887\n"
     ]
    }
   ],
   "source": [
    "c1 = coins[0]\n",
    "c_rand = coins[np.random.randint(0, 1000)]\n",
    "c_min = coins[mini_index]\n",
    "print(\"c1 = \", c1)\n",
    "print(\"c_rand = \", c_rand)\n",
    "print(\"c_min = \", c_min)\n",
    "print(\"mini_index\", mini_index)"
   ]
  },
  {
   "cell_type": "code",
   "execution_count": 5,
   "metadata": {
    "scrolled": true
   },
   "outputs": [
    {
     "name": "stdout",
     "output_type": "stream",
     "text": [
      "v1 =  0.5\n",
      "v_rand =  0.6\n",
      "v_min =  0.0\n"
     ]
    }
   ],
   "source": [
    "# the fraction of heads\n",
    "v1 = c1.sum() / 10\n",
    "v_rand = c_rand.sum() / 10\n",
    "v_min = c_min.sum() / 10\n",
    "print(\"v1 = \", v1)\n",
    "print(\"v_rand = \", v_rand)\n",
    "print(\"v_min = \", v_min)"
   ]
  },
  {
   "cell_type": "markdown",
   "metadata": {},
   "source": [
    "-----"
   ]
  },
  {
   "cell_type": "markdown",
   "metadata": {},
   "source": [
    "(a) What is μ for the three coins selected?"
   ]
  },
  {
   "cell_type": "markdown",
   "metadata": {},
   "source": [
    "抛一枚硬币正反面概率都为$\\frac{1}{2}$"
   ]
  },
  {
   "cell_type": "markdown",
   "metadata": {},
   "source": [
    "---"
   ]
  },
  {
   "cell_type": "markdown",
   "metadata": {},
   "source": [
    "(b) Repeat this entire experiment a large number of times (e.g., 100,000 runs of the entire experiment) to get several instances of $v_1$ , $v_{rand}$ and $v_{min}$ and plot the histograms of the distributions of $v_1$ , $v_{rand}$ and $v_{min}$. Notice that which coins end up being $c_{rand}$ and $c_{min}$ may differ from one run to another."
   ]
  },
  {
   "cell_type": "code",
   "execution_count": 6,
   "metadata": {},
   "outputs": [],
   "source": [
    "v1_h = []\n",
    "v_rand_h = []\n",
    "v_min_h = []\n",
    "for i in range(100000):\n",
    "    coins, mini_index = get_coins(1000, 10)\n",
    "    v1_h.append(coins[0].sum() / 10)\n",
    "    v_rand_h.append(coins[np.random.randint(0, 1000)].sum() / 10)\n",
    "    v_min_h.append(coins[mini_index].sum() / 10)"
   ]
  },
  {
   "cell_type": "code",
   "execution_count": 7,
   "metadata": {
    "scrolled": true
   },
   "outputs": [
    {
     "data": {
      "text/plain": [
       "Text(0.5, 1.0, 'the distribution of v1')"
      ]
     },
     "execution_count": 7,
     "metadata": {},
     "output_type": "execute_result"
    }
   ],
   "source": [
    "import matplotlib.pyplot as plt\n",
    "\n",
    "plt.hist(v1_h)\n",
    "plt.title(\"the distribution of v1\")"
   ]
  },
  {
   "cell_type": "code",
   "execution_count": 8,
   "metadata": {
    "scrolled": true
   },
   "outputs": [
    {
     "data": {
      "text/plain": [
       "Text(0.5, 1.0, 'the distribution of v_rand')"
      ]
     },
     "execution_count": 8,
     "metadata": {},
     "output_type": "execute_result"
    },
    {
     "data": {
      "image/png": "[encoded data removed]",
      "text/plain": [
       "<Figure size 432x288 with 1 Axes>"
      ]
     },
     "metadata": {
      "needs_background": "light"
     },
     "output_type": "display_data"
    }
   ],
   "source": [
    "plt.hist(v_rand_h)\n",
    "plt.title(\"the distribution of v_rand\")"
   ]
  },
  {
   "cell_type": "code",
   "execution_count": 9,
   "metadata": {
    "scrolled": false
   },
   "outputs": [
    {
     "data": {
      "text/plain": [
       "Text(0.5, 1.0, 'the distribution of v_min')"
      ]
     },
     "execution_count": 9,
     "metadata": {},
     "output_type": "execute_result"
    },
    {
     "data": {
      "image/png": "[encoded data removed]",
      "text/plain": [
       "<Figure size 432x288 with 1 Axes>"
      ]
     },
     "metadata": {
      "needs_background": "light"
     },
     "output_type": "display_data"
    }
   ],
   "source": [
    "plt.hist(v_min_h)\n",
    "plt.title(\"the distribution of v_min\")"
   ]
  },
  {
   "cell_type": "markdown",
   "metadata": {},
   "source": [
    "---"
   ]
  },
  {
   "cell_type": "markdown",
   "metadata": {},
   "source": [
    "(c) Using (b), plot estimates for $P[|v-u|>\\epsilon]$ as a function of $\\epsilon$, together with the Hoeffding bound $2e^{-2\\epsilon^2 N}$ (on the same graph)"
   ]
  },
  {
   "cell_type": "code",
   "execution_count": 10,
   "metadata": {},
   "outputs": [],
   "source": [
    "v1_h = np.asarray(v1_h)\n",
    "v_rand_h = np.asarray(v_rand_h)\n",
    "v_min_h = np.asarray(v_min_h)"
   ]
  },
  {
   "cell_type": "code",
   "execution_count": 11,
   "metadata": {
    "scrolled": true
   },
   "outputs": [],
   "source": [
    "n = 100000\n",
    "epsilon = np.arange(0, 1, 0.001)\n",
    "Hoeffding_bound = 2 * np.exp(-2 * epsilon**2 * 10)\n",
    "p_v1 = []\n",
    "p_vrand = []\n",
    "p_vmin = []\n",
    "for i in range(len(epsilon)):\n",
    "    p_v1.append((abs(v1_h - 0.5) > epsilon[i]).sum() / n)\n",
    "    p_vrand.append((abs(v_rand_h - 0.5) > epsilon[i]).sum() / n)\n",
    "    p_vmin.append((abs(v_min_h - 0.5) > epsilon[i]).sum() / n)"
   ]
  },
  {
   "cell_type": "code",
   "execution_count": 12,
   "metadata": {
    "scrolled": false
   },
   "outputs": [
    {
     "data": {
      "text/plain": [
       "<matplotlib.legend.Legend at 0x2ab5daefd30>"
      ]
     },
     "execution_count": 12,
     "metadata": {},
     "output_type": "execute_result"
    },
    {
     "data": {
      "image/png": "[encoded data removed]",
      "text/plain": [
       "<Figure size 432x288 with 1 Axes>"
      ]
     },
     "metadata": {
      "needs_background": "light"
     },
     "output_type": "display_data"
    }
   ],
   "source": [
    "plt.plot(epsilon, Hoeffding_bound, label='Hoeffding_bound')\n",
    "plt.ylim((0, 1))\n",
    "plt.plot(epsilon, p_v1, label='P[v1-u>$\\epsilon$]')\n",
    "plt.plot(epsilon, p_vrand, label='P[vrand-u>$\\epsilon$]')\n",
    "plt.plot(epsilon, p_vmin, label='P[vmin-u]>$\\epsilon$]')\n",
    "plt.xlabel('epsilon')\n",
    "plt.ylabel('P')\n",
    "plt.legend()"
   ]
  },
  {
   "cell_type": "markdown",
   "metadata": {},
   "source": [
    "---"
   ]
  },
  {
   "cell_type": "markdown",
   "metadata": {},
   "source": [
    "(d) Which coins obey the Hoeffding bound , and which ones do not? Explain why."
   ]
  },
  {
   "cell_type": "markdown",
   "metadata": {},
   "source": [
    "有(c)图可看出，$v_1$和$v_{rand}$ 符合Hoeffding bound, $v_{min}$不符合。"
   ]
  },
  {
   "cell_type": "markdown",
   "metadata": {},
   "source": [
    "---"
   ]
  },
  {
   "cell_type": "markdown",
   "metadata": {},
   "source": [
    "(e) Relate part (d) to the multiple bins in Figure 1.10."
   ]
  },
  {
   "cell_type": "markdown",
   "metadata": {},
   "source": [
    "+ $c_1$表示选择第一个硬币，$c_{rand}$表示随机选择一个硬币，$c_{min}$表示选择抛10次都是反面的硬币。\n",
    "+ 1000个硬币抛十次可以看做，有1000个箱子，每个箱子代表一个硬币。每一个抛硬币结果可以看成箱子里的弹珠。每个硬币抛十次可以看成从箱子里采样10个弹珠。\n",
    "+ v就代表采样十次即某一枚硬币抛十次正面的频率。$v_1$就代表第一枚硬币正面朝上的频率，$v_{rand}$就代表第随机数枚硬币正面朝上的频率。$v_{mini}$代表1000枚硬币抛10次正面朝上的最小频率。\n",
    "+ 因为3枚硬币正面朝上的概率都为0.5, 所以$u=0.5$，表示从这三枚硬币表示的箱子里，再采样一次得到的正面频率为0.5"
   ]
  },
  {
   "cell_type": "markdown",
   "metadata": {},
   "source": [
    "---"
   ]
  },
  {
   "cell_type": "markdown",
   "metadata": {},
   "source": [
    "---"
   ]
  },
  {
   "cell_type": "markdown",
   "metadata": {},
   "source": [
    "## Problem 1 .1"
   ]
  },
  {
   "cell_type": "markdown",
   "metadata": {},
   "source": [
    "We have 2 opaque bags, each containing 2 balls. One bag has 2 black balls and the other has a black and a white ball . You pick a bag at random and then pick one of the balls in that bag at random. When you look at the ball it is black. You now pick the second ball from that same bag. What is the probability that this ball is also black? {Hint: Use Bayes' Theorem: $\\Bbb P[A \\ and \\ B] = \\Bbb P[A\\ |\\ B] \\ \\Bbb P[B]=\\Bbb P[B\\ |\\ A] \\ \\Bbb P[A]$"
   ]
  },
  {
   "cell_type": "markdown",
   "metadata": {},
   "source": [
    "事件A：取第一个球为黑色\n",
    "事件B：取第二个球为黑色\n",
    "$P[B|A]=\\frac{P[AB]}{P[A]} = \\frac{0.5}{0.5+0.5 \\cdot 0.5} = \\frac 23$"
   ]
  },
  {
   "cell_type": "markdown",
   "metadata": {},
   "source": [
    "---"
   ]
  },
  {
   "cell_type": "markdown",
   "metadata": {},
   "source": [
    "---"
   ]
  },
  {
   "cell_type": "markdown",
   "metadata": {},
   "source": [
    "## Problem 1.2"
   ]
  },
  {
   "cell_type": "markdown",
   "metadata": {},
   "source": [
    "Consider the perceptron in two dimensions: $h(x)=sign(w^Tx)$ where $w=[w_0, w_1, w_2]^T$ and $x=[1, x_1,x_2]^2$. Technically, $x$ has three coordinates, but we call this perceptron two-dimensional because the first coordinate is fixed at 1."
   ]
  },
  {
   "cell_type": "markdown",
   "metadata": {},
   "source": [
    "(a)Show that the regions on the plane where $h(x) = + 1$ and $h(x) = - 1$ are separated by a line. If we express this line by the equation $x_2 = ax_1 + b$, what are the slope a and intercept b in terms of $w_0,w_1,w_2$?"
   ]
  },
  {
   "cell_type": "markdown",
   "metadata": {},
   "source": [
    "$$w^Tx=0 \\\\w_0+w_1x_1+w_2x_2=0 \\\\ x_2=-\\frac{w_1}{w_2}x_1-\\frac{w_0}{w_2}$$\n",
    "所以：\n",
    "$$\n",
    "\\begin{split}\n",
    "a &= \\frac{w_1}{w_2} \\\\\n",
    "b &= \\frac{w_0}{w_2} \\\\\n",
    "\\end{split}\n",
    "$$"
   ]
  },
  {
   "cell_type": "markdown",
   "metadata": {},
   "source": [
    "---"
   ]
  },
  {
   "cell_type": "markdown",
   "metadata": {},
   "source": [
    "(b)Draw a picture for the cases $w = [1,2,3]^T$ and $w = -[1,2,3]^T$"
   ]
  },
  {
   "cell_type": "code",
   "execution_count": 13,
   "metadata": {
    "scrolled": true
   },
   "outputs": [
    {
     "data": {
      "text/plain": [
       "<matplotlib.legend.Legend at 0x2ab5db5b978>"
      ]
     },
     "execution_count": 13,
     "metadata": {},
     "output_type": "execute_result"
    },
    {
     "data": {
      "image/png": "[encoded data removed]",
      "text/plain": [
       "<Figure size 432x288 with 1 Axes>"
      ]
     },
     "metadata": {
      "needs_background": "light"
     },
     "output_type": "display_data"
    }
   ],
   "source": [
    "import matplotlib.pyplot as plt\n",
    "\n",
    "x1 = np.arange(-6, 6, 2)\n",
    "x2_p = np.array([-2/3*i-1/3 for i in x1])\n",
    "x2_n = np.array([-2/3*i-1/3 for i in x1])\n",
    "plt.plot(x1, x2_p, label='$w=[1,2,3]^T$')\n",
    "plt.plot(x1, x2_n, label='$w=-[1,2,3]^T$')\n",
    "plt.xlabel('$x_1$')\n",
    "plt.ylabel('$x_2$')\n",
    "ax = plt.gca()\n",
    "ax.spines['right'].set_color('none')\n",
    "ax.spines['top'].set_color('none')\n",
    "ax.xaxis.set_ticks_position('bottom')\n",
    "ax.yaxis.set_ticks_position('left')\n",
    "ax.spines['bottom'].set_position(('data', 0))\n",
    "ax.spines['left'].set_position(('data', 0))\n",
    "plt.legend()"
   ]
  },
  {
   "cell_type": "markdown",
   "metadata": {},
   "source": [
    "In more than two dimensions, the $+1$ and $-1$ regions are separated by a hyperplane, the generalization of a line."
   ]
  },
  {
   "cell_type": "markdown",
   "metadata": {},
   "source": [
    "---"
   ]
  },
  {
   "cell_type": "markdown",
   "metadata": {},
   "source": [
    "---"
   ]
  },
  {
   "cell_type": "markdown",
   "metadata": {},
   "source": [
    "## Problem 1.3"
   ]
  },
  {
   "cell_type": "markdown",
   "metadata": {},
   "source": [
    "Prove that the PLA eventually converges to a linear separator for separable data. The following steps will guide you through the proof. Let $w^*$ be an optimal set of weights (one which separates the data). The essential idea in this proof is to show that the PLA weights $w(t)$ get \"more aligned\" with $w^*$ with every iteration. For simplicity, assume that $w(0) = 0$."
   ]
  },
  {
   "cell_type": "markdown",
   "metadata": {},
   "source": [
    "(a)Let $\\rho = \\min_{1\\leq n\\leq N} y_n (w^{*T}x_n)$ . Show that $\\rho > 0$."
   ]
  },
  {
   "cell_type": "markdown",
   "metadata": {},
   "source": [
    "因为$w^*$是最理想的权重集，因此对于N个点中的任何一个点，用$w^*$权重都能正确分类，所以能得到$\\rho > 0$"
   ]
  },
  {
   "cell_type": "markdown",
   "metadata": {},
   "source": [
    "---"
   ]
  },
  {
   "cell_type": "markdown",
   "metadata": {},
   "source": [
    "(b)Show that $w^T(t)w^* \\geq w^T(t-1)w^*+\\rho$, and conclude that $w^T(t)w^* \\geq t\\rho$"
   ]
  },
  {
   "cell_type": "markdown",
   "metadata": {},
   "source": [
    " $$\n",
    " \\begin{aligned}\n",
    " w^T(t)w^* &= (w^T(t-1)+y(t-1)x^T(t-1))w^* \\\\\n",
    " &= w^T(t-1)w^* +y(t-1)x^T(t-1)w^* \\\\\n",
    " &\\geq w^T(t-1)w^* + \\min_{1\\leq n\\leq N} y_n (w^{*T}x_n) \\\\\n",
    " &\\geq w^T(t-1)w^* + \\rho \\\\\n",
    " &\\geq w^T(t-2)w^* + 2\\rho \\\\\n",
    " &... \\\\\n",
    " &\\geq t\\rho\n",
    " \\end{aligned}\n",
    " $$ "
   ]
  },
  {
   "cell_type": "markdown",
   "metadata": {},
   "source": [
    "---"
   ]
  },
  {
   "cell_type": "markdown",
   "metadata": {},
   "source": [
    "(c)Show that $||w(t)||^2 \\leq ||w(t-1)||^2 + ||x(t-1)||^2$"
   ]
  },
  {
   "cell_type": "markdown",
   "metadata": {},
   "source": [
    "$$\n",
    "\\begin{aligned}\n",
    "||w(t)||^2 &= ||w(t-1)+y(t-1)x(t-1)||^2 \\\\\n",
    "&= ||w(t-1)||^2 + 2y(t-1)w^T(t-1)x(t-1) + ||y(t-1)x(t-1)||^2 \\\\\n",
    "& \\leq ||w(t-1)||^2 + ||y(t-1)x(t-1)||^2 \\\\\n",
    "& \\leq ||w(t-1)||^2 + ||x(t-1)||^2\n",
    "\\end{aligned}\n",
    "$$"
   ]
  },
  {
   "cell_type": "markdown",
   "metadata": {},
   "source": [
    "---"
   ]
  },
  {
   "cell_type": "markdown",
   "metadata": {},
   "source": [
    "(d)Show by induction that $||w(t)||^2 \\leq tR^2$, where $R=\\max_{1\\leq n\\leq N}||x_n||$"
   ]
  },
  {
   "cell_type": "markdown",
   "metadata": {},
   "source": [
    "$$\n",
    "\\begin{aligned}\n",
    "||w(t)||^2 &\\leq ||w(t-1)||^2 + ||x(t-1)||^2 \\\\\n",
    "& \\leq ||w(t-1)||^2 + \\max_{1\\leq n\\leq N}||x_n|| \\\\\n",
    "& \\leq ||w(t-2)||^2 + 2\\max_{1\\leq n\\leq N}||x_n|| \\\\\n",
    "... \\\\\n",
    "& \\leq |w(0)|^2 + t\\max_{1\\leq n\\leq N}||x_n|| = tR^2\n",
    "\\end{aligned}\n",
    "$$"
   ]
  },
  {
   "cell_type": "markdown",
   "metadata": {},
   "source": [
    "---"
   ]
  },
  {
   "cell_type": "markdown",
   "metadata": {},
   "source": [
    "(e)Using (b) and (d), show that $$\\frac{w^T(t)}{||w(t)||} w^* \\geq \\sqrt{t} \\cdot \\frac{\\rho}{R},$$  \n",
    "and hence prove that $$t \\leq \\frac{R^2||w^*||^2}{\\rho^2}$$"
   ]
  },
  {
   "cell_type": "markdown",
   "metadata": {},
   "source": [
    "因为：\n",
    "$$\\frac{w^T(t) w^*}{||w(t)||||w^*||} = \\cos \\alpha \\leq 1$$\n",
    "($\\alpha$是$w(t)$和$w^*$的夹角)  \n",
    "所以由(b)、(d)和上式得：\n",
    "$$\n",
    "\\frac{w^T(t) w^*}{||w(t)||||w^*||} \\geq \\frac{t\\rho}{\\sqrt{t}{R||w^*||}} = \\sqrt{t} \\cdot \\frac{\\rho}{R||w^*||} \\\\\n",
    "\\frac{w^T(t)}{||w(t)||} w^* \\geq \\sqrt{t} \\cdot \\frac{\\rho}{R} \\\\\n",
    "\\sqrt{t} \\cdot \\frac{\\rho}{R||w^*||} \\leq 1 \\\\\n",
    "t \\leq \\frac{R^2||w^*||^2}{\\rho^2}\n",
    "$$"
   ]
  },
  {
   "cell_type": "markdown",
   "metadata": {},
   "source": [
    "In practice, PLA converges more quickly than the bound $\\frac{R^2||w^*||^2}{\\rho^2}$ suggests. Nevertheless, because we do not know $\\rho$ in advance, we can't determine the number of iterations to convergence, which does pose a problem if the data is non-separable."
   ]
  },
  {
   "cell_type": "markdown",
   "metadata": {},
   "source": [
    "---"
   ]
  },
  {
   "cell_type": "markdown",
   "metadata": {},
   "source": [
    "---"
   ]
  },
  {
   "cell_type": "markdown",
   "metadata": {},
   "source": [
    "## Problem 1 .4"
   ]
  },
  {
   "cell_type": "code",
   "execution_count": 14,
   "metadata": {},
   "outputs": [],
   "source": [
    "import numpy as np\n",
    "import matplotlib.pyplot as plt\n",
    "\n",
    "# construct target fuction\n",
    "wf = [-1, 1, 1]"
   ]
  },
  {
   "cell_type": "markdown",
   "metadata": {},
   "source": [
    "(a) Generate a linearly separable data set of size 20 as indicated in Exercise1.4. Plot the examples {(xn,Yn)} as well as the target function f on a plane. Be sure to mark the examples from different classes differently, and add labels to the axes of the plot."
   ]
  },
  {
   "cell_type": "code",
   "execution_count": 15,
   "metadata": {},
   "outputs": [],
   "source": [
    "# generate data set of size 20\n",
    "x = np.random.rand(20, 3)\n",
    "x[:, 0] = 1\n",
    "y = []\n",
    "for i in range(x.shape[0]):\n",
    "    if (np.dot(wf[:], x[i]) > 0):\n",
    "        y.append(1)\n",
    "    else:\n",
    "        y.append(-1)\n",
    "        \n",
    "# postive points and negative points\n",
    "postive_index = []\n",
    "negtive_index = []\n",
    "for i in range(len(y)):\n",
    "    if y[i] > 0:\n",
    "        postive_index.append(i)\n",
    "    else:\n",
    "        negtive_index.append(i)\n",
    "postive_x = x[postive_index]\n",
    "negtive_x = x[negtive_index]"
   ]
  },
  {
   "cell_type": "code",
   "execution_count": 16,
   "metadata": {
    "scrolled": true
   },
   "outputs": [
    {
     "data": {
      "image/png": "[encoded data removed]",
      "text/plain": [
       "<Figure size 432x288 with 1 Axes>"
      ]
     },
     "metadata": {
      "needs_background": "light"
     },
     "output_type": "display_data"
    }
   ],
   "source": [
    "plt.plot(postive_x[:, 1], postive_x[:, 2], 'bo', label='postive points')\n",
    "plt.plot(negtive_x[:, 1], negtive_x[:, 2], 'bx', label='negtive points')\n",
    "plt.plot([1, 0], [0, 1], label='target function f')\n",
    "plt.xlabel('x1')\n",
    "plt.ylabel('x2')\n",
    "plt.legend()\n",
    "plt.show()"
   ]
  },
  {
   "cell_type": "markdown",
   "metadata": {},
   "source": [
    "----------------------------------------------------------------------"
   ]
  },
  {
   "cell_type": "markdown",
   "metadata": {},
   "source": [
    "(b)Run the perceptron learning a lgorithm on the data set above. Report the number of updates that the algorithm takes before converging. Plot the examples {(xn,Yn)}, the target function f, and the final hypothesis g in the same figure. Comment on whether f is close to g."
   ]
  },
  {
   "cell_type": "code",
   "execution_count": 17,
   "metadata": {},
   "outputs": [],
   "source": [
    "# run perceptron learning algorithm\n",
    "def PLA(x, y):\n",
    "    w = [0, 0, 0]\n",
    "    n_iter = 0\n",
    "    while 1:\n",
    "        flag = 0\n",
    "        for i in range(x.shape[0]):\n",
    "            if(y[i] * (np.dot(w, x[i])) <= 0):\n",
    "                n_iter += 1\n",
    "                flag = 1\n",
    "                w += y[i] * x[i]\n",
    "        if flag == 0:\n",
    "            break\n",
    "\n",
    "    return (w, n_iter)"
   ]
  },
  {
   "cell_type": "code",
   "execution_count": 18,
   "metadata": {
    "scrolled": true
   },
   "outputs": [],
   "source": [
    "w_b, n_iter_b = PLA(x, y)"
   ]
  },
  {
   "cell_type": "code",
   "execution_count": 19,
   "metadata": {},
   "outputs": [
    {
     "name": "stdout",
     "output_type": "stream",
     "text": [
      "iteration number:  76\n"
     ]
    }
   ],
   "source": [
    "print(\"iteration number: \", n_iter_b)"
   ]
  },
  {
   "cell_type": "code",
   "execution_count": 20,
   "metadata": {},
   "outputs": [],
   "source": [
    "# 对PLA计算出的直线取两点(0,g0), (1, g1)\n",
    "g0_b = -(w_b[0] + w_b[1] * 0) / w_b[2]\n",
    "g1_b = -(w_b[0] + w_b[1] * 1) / w_b[2]"
   ]
  },
  {
   "cell_type": "code",
   "execution_count": 21,
   "metadata": {},
   "outputs": [
    {
     "data": {
      "image/png": "[encoded data removed]",
      "text/plain": [
       "<Figure size 432x288 with 1 Axes>"
      ]
     },
     "metadata": {
      "needs_background": "light"
     },
     "output_type": "display_data"
    }
   ],
   "source": [
    "plt.plot([0, 1], [g0_b, g1_b], label='final hypothesis g')\n",
    "plt.plot([1, 0], [0, 1], label='tatget function f')\n",
    "plt.plot(postive_x[:, 1], postive_x[:, 2], 'bo', label='postive points')\n",
    "plt.plot(negtive_x[:, 1], negtive_x[:, 2], 'bx', label='negtive points')\n",
    "plt.xlabel('x1')\n",
    "plt.ylabel('x2')\n",
    "plt.legend()\n",
    "plt.show()"
   ]
  },
  {
   "cell_type": "markdown",
   "metadata": {},
   "source": [
    "--------------------------------------"
   ]
  },
  {
   "cell_type": "markdown",
   "metadata": {},
   "source": [
    "(c) Repeat everything in (b) with another randomly generated data set of size 20. Compare your resu lts with (b )."
   ]
  },
  {
   "cell_type": "code",
   "execution_count": 22,
   "metadata": {},
   "outputs": [],
   "source": [
    "# generate another data set of size 20\n",
    "x = np.random.rand(20, 3)\n",
    "x[:, 0] = 1\n",
    "y = []\n",
    "for i in range(x.shape[0]):\n",
    "    if (np.dot(wf[:], x[i]) > 0):\n",
    "        y.append(1)\n",
    "    else:\n",
    "        y.append(-1)\n",
    "        \n",
    "# postive points and negative points\n",
    "postive_index = []\n",
    "negtive_index = []\n",
    "for i in range(len(y)):\n",
    "    if y[i] > 0:\n",
    "        postive_index.append(i)\n",
    "    else:\n",
    "        negtive_index.append(i)\n",
    "postive_x = x[postive_index]\n",
    "negtive_x = x[negtive_index]"
   ]
  },
  {
   "cell_type": "code",
   "execution_count": 23,
   "metadata": {},
   "outputs": [],
   "source": [
    "w_c, n_iter_c = PLA(x, y)"
   ]
  },
  {
   "cell_type": "code",
   "execution_count": 24,
   "metadata": {},
   "outputs": [
    {
     "name": "stdout",
     "output_type": "stream",
     "text": [
      "n_iter =  28\n"
     ]
    }
   ],
   "source": [
    "# iteration number\n",
    "print('n_iter = ', n_iter_c)"
   ]
  },
  {
   "cell_type": "code",
   "execution_count": 25,
   "metadata": {},
   "outputs": [
    {
     "data": {
      "image/png": "[encoded data removed]",
      "text/plain": [
       "<Figure size 432x288 with 1 Axes>"
      ]
     },
     "metadata": {
      "needs_background": "light"
     },
     "output_type": "display_data"
    }
   ],
   "source": [
    "# 对PLA计算出的直线取两点(0,g0), (1, g1)\n",
    "g0_c = -(w_c[0] + w_c[1] * 0) / w_c[2]\n",
    "g1_c = -(w_c[0] + w_c[1] * 1) / w_c[2]\n",
    "\n",
    "# 比较图\n",
    "plt.plot([0, 1], [g0_c, g1_c], label='final hypothesis g')\n",
    "plt.plot([1, 0], [0, 1], label='tatget function f')\n",
    "plt.plot(postive_x[:, 1], postive_x[:, 2], 'bo', label='postive points')\n",
    "plt.plot(negtive_x[:, 1], negtive_x[:, 2], 'bx', label='negtive points')\n",
    "plt.xlabel('x1')\n",
    "plt.ylabel('x2')\n",
    "plt.legend()\n",
    "plt.show()"
   ]
  },
  {
   "cell_type": "markdown",
   "metadata": {},
   "source": [
    "-----"
   ]
  },
  {
   "cell_type": "markdown",
   "metadata": {},
   "source": [
    "(d)Repeat everyth i ng i n (b) with a nother ra ndomly generated data set of\n",
    "size 100. Com pare you r resu lts with (b)."
   ]
  },
  {
   "cell_type": "code",
   "execution_count": 26,
   "metadata": {},
   "outputs": [],
   "source": [
    "# generate another data set of size 100\n",
    "x = np.random.rand(100, 3)\n",
    "x[:, 0] = 1\n",
    "y = []\n",
    "for i in range(x.shape[0]):\n",
    "    if (np.dot(wf[:], x[i]) > 0):\n",
    "        y.append(1)\n",
    "    else:\n",
    "        y.append(-1)\n",
    "        \n",
    "# postive points and negative points\n",
    "postive_index = []\n",
    "negtive_index = []\n",
    "for i in range(len(y)):\n",
    "    if y[i] > 0:\n",
    "        postive_index.append(i)\n",
    "    else:\n",
    "        negtive_index.append(i)\n",
    "postive_x = x[postive_index]\n",
    "negtive_x = x[negtive_index]"
   ]
  },
  {
   "cell_type": "code",
   "execution_count": 27,
   "metadata": {},
   "outputs": [],
   "source": [
    "w_d, n_iter_d = PLA(x, y)"
   ]
  },
  {
   "cell_type": "code",
   "execution_count": 28,
   "metadata": {},
   "outputs": [
    {
     "name": "stdout",
     "output_type": "stream",
     "text": [
      "n_iter =  87\n"
     ]
    }
   ],
   "source": [
    "# iteration number\n",
    "print('n_iter = ', n_iter_d)"
   ]
  },
  {
   "cell_type": "code",
   "execution_count": 29,
   "metadata": {},
   "outputs": [
    {
     "data": {
      "image/png": "[encoded data removed]",
      "text/plain": [
       "<Figure size 432x288 with 1 Axes>"
      ]
     },
     "metadata": {
      "needs_background": "light"
     },
     "output_type": "display_data"
    }
   ],
   "source": [
    "# 对PLA计算出的直线取两点(0,g0), (1, g1)\n",
    "g0_d = -(w_d[0] + w_d[1] * 0) / w_d[2]\n",
    "g1_d = -(w_d[0] + w_d[1] * 1) / w_d[2]\n",
    "\n",
    "# 比较图\n",
    "plt.plot([0, 1], [g0_d, g1_d], label='final hypothesis g')\n",
    "plt.plot([1, 0], [0, 1], label='tatget function f')\n",
    "plt.plot(postive_x[:, 1], postive_x[:, 2], 'bo', label='postive points')\n",
    "plt.plot(negtive_x[:, 1], negtive_x[:, 2], 'bx', label='negtive points')\n",
    "plt.xlabel('x1')\n",
    "plt.ylabel('x2')\n",
    "plt.legend()\n",
    "plt.show()"
   ]
  },
  {
   "cell_type": "markdown",
   "metadata": {},
   "source": [
    "---"
   ]
  },
  {
   "cell_type": "markdown",
   "metadata": {},
   "source": [
    "(e) Repeat everything in (b) with another randomly generated data set of size 1000. Compare your resu lts with (b)."
   ]
  },
  {
   "cell_type": "code",
   "execution_count": 30,
   "metadata": {},
   "outputs": [],
   "source": [
    "# generate another data set of size 20\n",
    "x = np.random.rand(1000, 3)\n",
    "x[:, 0] = 1\n",
    "y = []\n",
    "for i in range(x.shape[0]):\n",
    "    if (np.dot(wf[:], x[i]) > 0):\n",
    "        y.append(1)\n",
    "    else:\n",
    "        y.append(-1)\n",
    "        \n",
    "# postive points and negative points\n",
    "postive_index = []\n",
    "negtive_index = []\n",
    "for i in range(len(y)):\n",
    "    if y[i] > 0:\n",
    "        postive_index.append(i)\n",
    "    else:\n",
    "        negtive_index.append(i)\n",
    "postive_x = x[postive_index]\n",
    "negtive_x = x[negtive_index]"
   ]
  },
  {
   "cell_type": "code",
   "execution_count": 31,
   "metadata": {
    "scrolled": true
   },
   "outputs": [],
   "source": [
    "w_e, n_iter_e = PLA(x, y)"
   ]
  },
  {
   "cell_type": "code",
   "execution_count": 32,
   "metadata": {},
   "outputs": [
    {
     "name": "stdout",
     "output_type": "stream",
     "text": [
      "n_iter =  152\n"
     ]
    }
   ],
   "source": [
    "# iteration number\n",
    "print('n_iter = ', n_iter_e)"
   ]
  },
  {
   "cell_type": "code",
   "execution_count": 33,
   "metadata": {},
   "outputs": [
    {
     "data": {
      "image/png": "[encoded data removed]",
      "text/plain": [
       "<Figure size 432x288 with 1 Axes>"
      ]
     },
     "metadata": {
      "needs_background": "light"
     },
     "output_type": "display_data"
    }
   ],
   "source": [
    "# 对PLA计算出的直线取两点(0,g0), (1, g1)\n",
    "g0_e = -(w_e[0] + w_e[1] * 0) / w_e[2]\n",
    "g1_e = -(w_e[0] + w_e[1] * 1) / w_e[2]\n",
    "\n",
    "# 比较图\n",
    "plt.plot([0, 1], [g0_e, g1_e], label='final hypothesis g')\n",
    "plt.plot([1, 0], [0, 1], label='tatget function f')\n",
    "plt.plot(postive_x[:, 1], postive_x[:, 2], 'bo', label='postive points')\n",
    "plt.plot(negtive_x[:, 1], negtive_x[:, 2], 'bx', label='negtive points')\n",
    "plt.xlabel('x1')\n",
    "plt.ylabel('x2')\n",
    "plt.legend()\n",
    "plt.show()"
   ]
  },
  {
   "cell_type": "markdown",
   "metadata": {},
   "source": [
    "-----"
   ]
  },
  {
   "cell_type": "markdown",
   "metadata": {},
   "source": [
    "(f) Modify the algorithm such that it takes $X_n \\in R^{10}$ instead of $R^2$. Randomly generate a linearly separable data set of size 1000 with $X_n \\in R^{10} $ and feed the data set to the algorithm. How many updates does the algorithm take to converge?"
   ]
  },
  {
   "cell_type": "code",
   "execution_count": 34,
   "metadata": {},
   "outputs": [],
   "source": [
    "# run perceptron learning algorithm\n",
    "def PLA_10d(x, y):\n",
    "    w = [0] * 11\n",
    "    n_iter = 0\n",
    "    while 1:\n",
    "        flag = 0\n",
    "        for i in range(x.shape[0]):\n",
    "            if(y[i] * (np.dot(w, x[i])) <= 0):\n",
    "                n_iter += 1\n",
    "                flag = 1\n",
    "                w += y[i] * x[i]\n",
    "        if flag == 0:\n",
    "            break\n",
    "    return (w, n_iter)"
   ]
  },
  {
   "cell_type": "code",
   "execution_count": 35,
   "metadata": {},
   "outputs": [],
   "source": [
    "wf_10d = [1] * 11\n",
    "# generate another data set of size 20\n",
    "x = np.random.randn(1000, 11)\n",
    "x[:, 0] = 1\n",
    "y = []\n",
    "for i in range(x.shape[0]):\n",
    "    if (np.dot(wf_10d[:], x[i]) > 0):\n",
    "        y.append(1)\n",
    "    else:\n",
    "        y.append(-1)\n",
    "        \n",
    "# postive points and negative points\n",
    "postive_index = []\n",
    "negtive_index = []\n",
    "for i in range(len(y)):\n",
    "    if y[i] > 0:\n",
    "        postive_index.append(i)\n",
    "    else:\n",
    "        negtive_index.append(i)\n",
    "postive_x = x[postive_index]\n",
    "negtive_x = x[negtive_index]"
   ]
  },
  {
   "cell_type": "code",
   "execution_count": 36,
   "metadata": {},
   "outputs": [],
   "source": [
    "w_f, n_iter_f = PLA_10d(x, y)"
   ]
  },
  {
   "cell_type": "code",
   "execution_count": 37,
   "metadata": {},
   "outputs": [
    {
     "name": "stdout",
     "output_type": "stream",
     "text": [
      "iteration:  2248\n"
     ]
    }
   ],
   "source": [
    "print(\"iteration: \", n_iter_f)"
   ]
  },
  {
   "cell_type": "markdown",
   "metadata": {},
   "source": [
    "----"
   ]
  },
  {
   "cell_type": "markdown",
   "metadata": {},
   "source": [
    "(g) Repeat the algorithm on the same data set as (f) for 100 experiments. In the iterations of each experiment, pick x(t) randomly instead of deterministically. Plot a histogram for the number of updates that the algorithm takes to converge."
   ]
  },
  {
   "cell_type": "code",
   "execution_count": 38,
   "metadata": {},
   "outputs": [],
   "source": [
    "# run perceptron learning algorithm\n",
    "def PLA_10d_random(x, y):\n",
    "    w = [0] * 11\n",
    "    n_iter = 0\n",
    "    while 1:\n",
    "        flag = 0\n",
    "        for i in np.random.randint(0, 1000, size=1000):\n",
    "            if(y[i] * (np.dot(w, x[i])) <= 0):\n",
    "                n_iter += 1\n",
    "                flag = 1\n",
    "                w += y[i] * x[i]\n",
    "        if flag == 0:\n",
    "            break\n",
    "    return (w, n_iter)"
   ]
  },
  {
   "cell_type": "code",
   "execution_count": 39,
   "metadata": {},
   "outputs": [],
   "source": [
    "# 100 experiments\n",
    "iter_history = []\n",
    "for i in range(100):\n",
    "    _, n_inter_g = PLA_10d_random(x, y)\n",
    "    iter_history.append(n_inter_g)"
   ]
  },
  {
   "cell_type": "code",
   "execution_count": 40,
   "metadata": {},
   "outputs": [
    {
     "data": {
      "text/plain": [
       "(array([ 5.,  6.,  8., 10., 19., 33., 10.,  7.,  1.,  1.]),\n",
       " array([ 508. ,  693.5,  879. , 1064.5, 1250. , 1435.5, 1621. , 1806.5,\n",
       "        1992. , 2177.5, 2363. ]),\n",
       " <a list of 10 Patch objects>)"
      ]
     },
     "execution_count": 40,
     "metadata": {},
     "output_type": "execute_result"
    },
    {
     "data": {
      "image/png": "[encoded data removed]",
      "text/plain": [
       "<Figure size 432x288 with 1 Axes>"
      ]
     },
     "metadata": {
      "needs_background": "light"
     },
     "output_type": "display_data"
    }
   ],
   "source": [
    "plt.hist(iter_history)"
   ]
  },
  {
   "cell_type": "markdown",
   "metadata": {},
   "source": [
    "----"
   ]
  },
  {
   "cell_type": "markdown",
   "metadata": {},
   "source": [
    "(h) Summarize your conclusions with respect to accuracy and running time as a function of N and d."
   ]
  },
  {
   "cell_type": "markdown",
   "metadata": {},
   "source": [
    "N越多，跑的时间越长，离target function也越准确。\n",
    "d越高，跑的时间越长。"
   ]
  },
  {
   "cell_type": "markdown",
   "metadata": {},
   "source": [
    "---"
   ]
  },
  {
   "cell_type": "markdown",
   "metadata": {},
   "source": [
    "---"
   ]
  },
  {
   "cell_type": "markdown",
   "metadata": {},
   "source": [
    "## Problem 1.5"
   ]
  },
  {
   "cell_type": "markdown",
   "metadata": {},
   "source": [
    "The perceptron learning algorithm works like this: In each iteration, pick a random $(x(t),y(t))$ and compute the 'signal' $s(t)=w^T(t)x(t)$. If $y(t) \\cdot s(t) \\leq 0$, update $w$ by \n",
    "$$w(t+1) \\leftarrow w(t) + y(t) \\cdot x(t);$$\n",
    "One may argue that this algorithm does not take the 'closeness' between $s(t)$ and $y(t)$ into consideration. Let's look at another perceptron learning algorithm: In each iteration, pick a random $(x(t),y(t))$ and compute $s(t)$. If $y(t)\\cdot x(t) \\leq 1$, update $w$ by\n",
    "$$w(t+1) \\leftarrow w(t) + \\eta(y(t)-s(t)) \\cdot x(t);$$\n",
    "where $\\eta$ is a constant. That is, if $s(t)$ agrees with $y(t)$ well (their product is > 1), the algorithm does nothing. On the other hand, if $s(t)$ is further from  $y(t)$, the algorithm changes $w(t)$ more. In this problem , you are asked to implement this algorithm and study its perfrmance."
   ]
  },
  {
   "cell_type": "markdown",
   "metadata": {},
   "source": [
    "---"
   ]
  },
  {
   "cell_type": "markdown",
   "metadata": {},
   "source": [
    "(a)Generate a training data set of size 100 similar to that used in Exercise 1.4.Generate a test data set of size 10,000 from the same process. To get $g$, run the algorithm above with $\\eta=100$ on the training data set, until a maximum of 1,000 updates has been reached. Plot the training data set, the target function $f$, and the final hypothesis $g$ on the same figure. Report the error on the test set."
   ]
  },
  {
   "cell_type": "code",
   "execution_count": 41,
   "metadata": {},
   "outputs": [],
   "source": [
    "import numpy as np\n",
    "\n",
    "wf = [-1, 1, 1]\n",
    "\n",
    "train_x = np.random.rand(100, 3)\n",
    "train_x[:, 0] = 1\n",
    "\n",
    "train_y = []\n",
    "for i in range(len(train_x)):\n",
    "    if (np.dot(wf, train_x[i]) > 0):\n",
    "        train_y.append(1)\n",
    "    else:\n",
    "        train_y.append(-1)\n",
    "train_y = np.asarray(train_y)\n",
    "postive_train_x = np.asarray([train_x[i] for i in range(len(train_y)) if train_y[i] > 0])\n",
    "negtive_train_x = np.asarray([train_x[i] for i in range(len(train_y)) if train_y[i] <= 0])"
   ]
  },
  {
   "cell_type": "code",
   "execution_count": 42,
   "metadata": {},
   "outputs": [
    {
     "data": {
      "text/plain": [
       "<matplotlib.legend.Legend at 0x2ab5ddebef0>"
      ]
     },
     "execution_count": 42,
     "metadata": {},
     "output_type": "execute_result"
    },
    {
     "data": {
      "image/png": "[encoded data removed]",
      "text/plain": [
       "<Figure size 432x288 with 1 Axes>"
      ]
     },
     "metadata": {
      "needs_background": "light"
     },
     "output_type": "display_data"
    }
   ],
   "source": [
    "import matplotlib.pyplot as plt\n",
    "\n",
    "plt.plot(postive_train_x[:, 1], postive_train_x[:,2], \"bo\", label=\"train postive points\")\n",
    "plt.plot(negtive_train_x[:, 1], negtive_train_x[:,2], \"b+\", label=\"train negtive points\")\n",
    "plt.plot([0, 1], [1, 0], label=\"f\")\n",
    "plt.legend()"
   ]
  },
  {
   "cell_type": "code",
   "execution_count": 43,
   "metadata": {},
   "outputs": [],
   "source": [
    "test_x = np.random.rand(10000, 3)\n",
    "test_x[:, 0] = 1\n",
    "\n",
    "test_y = []\n",
    "for i in range(len(test_x)):\n",
    "    if (np.dot(wf, test_x[i]) > 0):\n",
    "        test_y.append(1)\n",
    "    else:\n",
    "        test_y.append(-1)\n",
    "test_y = np.asarray(test_y)\n",
    "postive_test_x = np.asarray([test_x[i] for i in range(len(test_y)) if test_y[i] > 0])\n",
    "negtive_test_x = np.asarray([test_x[i] for i in range(len(test_y)) if test_y[i] <= 0])"
   ]
  },
  {
   "cell_type": "code",
   "execution_count": 44,
   "metadata": {},
   "outputs": [
    {
     "name": "stdout",
     "output_type": "stream",
     "text": [
      "postive_test_x's shape is (5054, 3)\n",
      "negtiva_test_x's shape is (4946, 3)\n"
     ]
    }
   ],
   "source": [
    "print(\"postive_test_x's shape is\", postive_test_x.shape)\n",
    "print(\"negtiva_test_x's shape is\", negtive_test_x.shape)"
   ]
  },
  {
   "cell_type": "code",
   "execution_count": 45,
   "metadata": {},
   "outputs": [
    {
     "data": {
      "text/plain": [
       "<matplotlib.legend.Legend at 0x2ab5dd3deb8>"
      ]
     },
     "execution_count": 45,
     "metadata": {},
     "output_type": "execute_result"
    },
    {
     "data": {
      "image/png": "[encoded data removed]",
      "text/plain": [
       "<Figure size 432x288 with 1 Axes>"
      ]
     },
     "metadata": {
      "needs_background": "light"
     },
     "output_type": "display_data"
    }
   ],
   "source": [
    "import matplotlib.pyplot as plt\n",
    "\n",
    "plt.plot(postive_test_x[:, 1], postive_test_x[:,2], \"bo\", label=\"test postive points\")\n",
    "plt.plot(negtive_test_x[:, 1], negtive_test_x[:,2], \"b+\", label=\"test negtive points\")\n",
    "plt.plot([0, 1], [1, 0], 'red', label=\"f\")\n",
    "plt.legend()"
   ]
  },
  {
   "cell_type": "code",
   "execution_count": 46,
   "metadata": {},
   "outputs": [],
   "source": [
    "def PLA_nd(x, y, n, eta, iteration):\n",
    "    w = [0] * (n + 1)\n",
    "    c = 0\n",
    "    for i in np.random.randint(0, len(x), size=iteration):\n",
    "        s = np.dot(w, x[i])\n",
    "        if (s * y[i] <= 1):\n",
    "            w += eta * (y[i] - s) * x[i]\n",
    "            c += 1\n",
    "        # 防止参数过大，double值在运算中溢出\n",
    "        if (abs(w[0]) > 100):\n",
    "            w /= 100\n",
    "        if (c == iteration): break\n",
    "    return w"
   ]
  },
  {
   "cell_type": "code",
   "execution_count": 47,
   "metadata": {},
   "outputs": [],
   "source": [
    "def error_rate(w, x, y):\n",
    "    error = 0.0\n",
    "    for i in range(len(x)):\n",
    "        if (y[i] * np.dot(w, x[i]) <= 0):\n",
    "            error += 1\n",
    "    return error / len(x)"
   ]
  },
  {
   "cell_type": "code",
   "execution_count": 48,
   "metadata": {
    "scrolled": false
   },
   "outputs": [
    {
     "name": "stdout",
     "output_type": "stream",
     "text": [
      "(100, 3)\n",
      "(100,)\n"
     ]
    }
   ],
   "source": [
    "print(train_x.shape)\n",
    "print(train_y.shape)"
   ]
  },
  {
   "cell_type": "code",
   "execution_count": 49,
   "metadata": {
    "scrolled": true
   },
   "outputs": [
    {
     "name": "stdout",
     "output_type": "stream",
     "text": [
      "test error rate is 0.5054\n"
     ]
    }
   ],
   "source": [
    "# eta = 100\n",
    "g = PLA_nd(train_x, train_y, 2, eta=100, iteration=1000)\n",
    "\n",
    "error = error_rate(g, test_x, test_y)\n",
    "print(\"test error rate is\", error)"
   ]
  },
  {
   "cell_type": "code",
   "execution_count": 50,
   "metadata": {},
   "outputs": [],
   "source": [
    "g0 = -(g[0] + g[1] * 0) / g[2]\n",
    "g1 = -(g[0] + g[1] * 1) / g[2]"
   ]
  },
  {
   "cell_type": "code",
   "execution_count": 51,
   "metadata": {
    "scrolled": true
   },
   "outputs": [
    {
     "data": {
      "text/plain": [
       "<matplotlib.legend.Legend at 0x2ab5dd49198>"
      ]
     },
     "execution_count": 51,
     "metadata": {},
     "output_type": "execute_result"
    },
    {
     "data": {
      "image/png": "[encoded data removed]",
      "text/plain": [
       "<Figure size 432x288 with 1 Axes>"
      ]
     },
     "metadata": {
      "needs_background": "light"
     },
     "output_type": "display_data"
    }
   ],
   "source": [
    "import matplotlib.pyplot as plt\n",
    "\n",
    "plt.plot(postive_train_x[:, 1], postive_train_x[:,2], \"bo\", label=\"postive points\")\n",
    "plt.plot(negtive_train_x[:, 1], negtive_train_x[:,2], \"b+\", label=\"negtive points\")\n",
    "plt.plot([0, 1], [1, 0], label=\"f\")\n",
    "plt.plot([0, 1], [g0, g1], label=\"g\")\n",
    "plt.xlabel('x1')\n",
    "plt.ylabel('x2')\n",
    "plt.title(\"$\\eta=100$\")\n",
    "plt.legend()"
   ]
  },
  {
   "cell_type": "markdown",
   "metadata": {},
   "source": [
    "---"
   ]
  },
  {
   "cell_type": "markdown",
   "metadata": {},
   "source": [
    "(b) Use the data set in (a) and redo everything with $\\eta=1$."
   ]
  },
  {
   "cell_type": "code",
   "execution_count": 52,
   "metadata": {
    "scrolled": false
   },
   "outputs": [
    {
     "name": "stdout",
     "output_type": "stream",
     "text": [
      "test error rate is 0.0296\n"
     ]
    },
    {
     "data": {
      "text/plain": [
       "<matplotlib.legend.Legend at 0x2ab5de7f7b8>"
      ]
     },
     "execution_count": 52,
     "metadata": {},
     "output_type": "execute_result"
    },
    {
     "data": {
      "image/png": "[encoded data removed]",
      "text/plain": [
       "<Figure size 432x288 with 1 Axes>"
      ]
     },
     "metadata": {
      "needs_background": "light"
     },
     "output_type": "display_data"
    }
   ],
   "source": [
    "# eta = 1\n",
    "g = PLA_nd(train_x, train_y, 2, eta=1, iteration=1000)\n",
    "error = error_rate(g, test_x, test_y)\n",
    "print(\"test error rate is\", error)\n",
    "g0 = -(g[0] + g[1] * 0) / g[2]\n",
    "g1 = -(g[0] + g[1] * 1) / g[2]\n",
    "plt.plot(postive_train_x[:, 1], postive_train_x[:,2], \"bo\", label=\"postive points\")\n",
    "plt.plot(negtive_train_x[:, 1], negtive_train_x[:,2], \"b+\", label=\"negtive points\")\n",
    "plt.plot([0, 1], [1, 0], label=\"f\")\n",
    "plt.plot([0, 1], [g0, g1], label=\"g\")\n",
    "plt.xlabel('x1')\n",
    "plt.ylabel('x2')\n",
    "plt.title(\"$\\eta=1$\")\n",
    "plt.legend()"
   ]
  },
  {
   "cell_type": "markdown",
   "metadata": {},
   "source": [
    "---"
   ]
  },
  {
   "cell_type": "markdown",
   "metadata": {},
   "source": [
    "(c) Use the data set in (a) and redo everything with $\\eta=0.01$."
   ]
  },
  {
   "cell_type": "code",
   "execution_count": 53,
   "metadata": {
    "scrolled": true
   },
   "outputs": [
    {
     "name": "stdout",
     "output_type": "stream",
     "text": [
      "test error rate is 0.1061\n"
     ]
    },
    {
     "data": {
      "text/plain": [
       "<matplotlib.legend.Legend at 0x2ab5defb7b8>"
      ]
     },
     "execution_count": 53,
     "metadata": {},
     "output_type": "execute_result"
    },
    {
     "data": {
      "image/png": "[encoded data removed]",
      "text/plain": [
       "<Figure size 432x288 with 1 Axes>"
      ]
     },
     "metadata": {
      "needs_background": "light"
     },
     "output_type": "display_data"
    }
   ],
   "source": [
    "# eta = 0.01\n",
    "g = PLA_nd(train_x, train_y, 2, eta=0.01, iteration=1000)\n",
    "error = error_rate(g, test_x, test_y)\n",
    "print(\"test error rate is\", error)\n",
    "g0 = -(g[0] + g[1] * 0) / g[2]\n",
    "g1 = -(g[0] + g[1] * 1) / g[2]\n",
    "plt.plot(postive_train_x[:, 1], postive_train_x[:,2], \"bo\", label=\"postive points\")\n",
    "plt.plot(negtive_train_x[:, 1], negtive_train_x[:,2], \"b+\", label=\"negtive points\")\n",
    "plt.plot([0, 1], [1, 0], label=\"f\")\n",
    "plt.plot([0, 1], [g0, g1], label=\"g\")\n",
    "plt.xlabel('x1')\n",
    "plt.ylabel('x2')\n",
    "plt.title(\"$\\eta=1$\")\n",
    "plt.legend()"
   ]
  },
  {
   "cell_type": "markdown",
   "metadata": {},
   "source": [
    "---"
   ]
  },
  {
   "cell_type": "markdown",
   "metadata": {},
   "source": [
    "(d) Use the data set in (a) and redo everything with $\\eta=0.0001$."
   ]
  },
  {
   "cell_type": "code",
   "execution_count": 54,
   "metadata": {
    "scrolled": true
   },
   "outputs": [
    {
     "name": "stdout",
     "output_type": "stream",
     "text": [
      "test error rate is 0.0488\n"
     ]
    },
    {
     "data": {
      "text/plain": [
       "<matplotlib.legend.Legend at 0x2ab5df8a2b0>"
      ]
     },
     "execution_count": 54,
     "metadata": {},
     "output_type": "execute_result"
    },
    {
     "data": {
      "image/png": "[encoded data removed]",
      "text/plain": [
       "<Figure size 432x288 with 1 Axes>"
      ]
     },
     "metadata": {
      "needs_background": "light"
     },
     "output_type": "display_data"
    }
   ],
   "source": [
    "# eta = 0.0001\n",
    "g = PLA_nd(train_x, train_y, 2, eta=0.01, iteration=1000)\n",
    "error = error_rate(g, test_x, test_y)\n",
    "print(\"test error rate is\", error)\n",
    "g0 = -(g[0] + g[1] * 0) / g[2]\n",
    "g1 = -(g[0] + g[1] * 1) / g[2]\n",
    "plt.plot(postive_train_x[:, 1], postive_train_x[:,2], \"bo\", label=\"postive points\")\n",
    "plt.plot(negtive_train_x[:, 1], negtive_train_x[:,2], \"b+\", label=\"negtive points\")\n",
    "plt.plot([0, 1], [1, 0], label=\"f\")\n",
    "plt.plot([0, 1], [g0, g1], label=\"g\")\n",
    "plt.xlabel('x1')\n",
    "plt.ylabel('x2')\n",
    "plt.title(\"$\\eta=1$\")\n",
    "plt.legend()"
   ]
  },
  {
   "cell_type": "markdown",
   "metadata": {},
   "source": [
    "---"
   ]
  },
  {
   "cell_type": "markdown",
   "metadata": {},
   "source": [
    "(e)Compare the results that you get from (a) to (d)"
   ]
  },
  {
   "cell_type": "code",
   "execution_count": 55,
   "metadata": {},
   "outputs": [
    {
     "name": "stdout",
     "output_type": "stream",
     "text": [
      "eta = 100, 10 average error rate =  0.050539999999999995\n",
      "eta = 1, 10 average error rate =  0.00396\n",
      "eta = 0.01, 10 average error rate =  0.00826\n",
      "eta = 0.0001, 10 average error rate =  0.039029999999999995\n"
     ]
    }
   ],
   "source": [
    "for i in range(10):\n",
    "    err_eta_100 = error_rate(PLA_nd(train_x, train_y, 2, eta=100, iteration=1000), test_x, test_y)\n",
    "    err_eta_1 = error_rate(PLA_nd(train_x, train_y, 2, eta=1, iteration=1000), test_x, test_y)\n",
    "    err_eta_001 = error_rate(PLA_nd(train_x, train_y, 2, eta=0.01, iteration=1000), test_x, test_y)\n",
    "    err_eta_00001 = error_rate(PLA_nd(train_x, train_y, 2, eta=0.0001, iteration=1000), test_x, test_y)\n",
    "    \n",
    "print(\"eta = 100, 10 average error rate = \", err_eta_100 / 10)\n",
    "print(\"eta = 1, 10 average error rate = \", err_eta_1 / 10)\n",
    "print(\"eta = 0.01, 10 average error rate = \", err_eta_001 / 10)\n",
    "print(\"eta = 0.0001, 10 average error rate = \", err_eta_00001 / 10)"
   ]
  },
  {
   "cell_type": "markdown",
   "metadata": {},
   "source": [
    "上面计算了10次$\\eta$取不同值时，在测试机上得到的平均错误率。可以看出，随着$\\eta$的上升，测试集上的错误率一开始下降，在$\\eta=1$时最低，然后开始上升。"
   ]
  },
  {
   "cell_type": "markdown",
   "metadata": {},
   "source": [
    "The algorithm above is a variant of the so called Adaline ($Adaptive Linear Neuron$) algorithm for\n",
    "perceptron learning."
   ]
  },
  {
   "cell_type": "markdown",
   "metadata": {},
   "source": [
    "---"
   ]
  },
  {
   "cell_type": "markdown",
   "metadata": {},
   "source": [
    "---"
   ]
  },
  {
   "cell_type": "markdown",
   "metadata": {},
   "source": [
    "## Problem 1.6"
   ]
  },
  {
   "cell_type": "markdown",
   "metadata": {},
   "source": [
    "Consider a sample of 10 marbles drawn independently from a bin that holds red and green marbles. The\n",
    "probability of a red marble is $\\mu$. For $\\mu=0.05$,$\\mu=0.5$,and $\\mu=0.8$, compute the probability of getting no red marbles($v=0$) in the following cases."
   ]
  },
  {
   "cell_type": "markdown",
   "metadata": {},
   "source": [
    "---"
   ]
  },
  {
   "cell_type": "markdown",
   "metadata": {},
   "source": [
    "(a)We draw only one such sample. Compute the probability that $v=0$."
   ]
  },
  {
   "cell_type": "markdown",
   "metadata": {},
   "source": [
    "$Pa=(1-\\mu)^{10}$  \n",
    "$$\n",
    "\\begin{aligned}\n",
    "\\mu = 0.05: \\ &Pa\\approx0.6 \\\\\n",
    "\\mu = 0.5: \\ &Pa\\approx0.00098 \\\\\n",
    "\\mu = 0.8: \\ &Pa\\approx0.00000010\n",
    "\\end{aligned}\n",
    "$$"
   ]
  },
  {
   "cell_type": "markdown",
   "metadata": {},
   "source": [
    "---"
   ]
  },
  {
   "cell_type": "markdown",
   "metadata": {},
   "source": [
    "(b) We draw 1,000 independent samples. Compute the probability that (at least) one of the samples has $v=0$."
   ]
  },
  {
   "cell_type": "markdown",
   "metadata": {},
   "source": [
    "$Pb = 1 - (1-Pa)^{1000}$  \n",
    "约等于1."
   ]
  },
  {
   "cell_type": "markdown",
   "metadata": {},
   "source": [
    "---"
   ]
  },
  {
   "cell_type": "markdown",
   "metadata": {},
   "source": [
    "(c)Repeat (b) for 1,000,000 independent samples."
   ]
  },
  {
   "cell_type": "markdown",
   "metadata": {},
   "source": [
    "$Pc = 1 - (1-Pa)^{1000000}$  \n",
    "约等于1."
   ]
  },
  {
   "cell_type": "markdown",
   "metadata": {},
   "source": [
    "可以总结到，当采样足够多的时候，出现一次采样10颗求为同一个颜色的概率非常大。"
   ]
  },
  {
   "cell_type": "markdown",
   "metadata": {},
   "source": [
    "---"
   ]
  },
  {
   "cell_type": "markdown",
   "metadata": {},
   "source": [
    "---"
   ]
  },
  {
   "cell_type": "markdown",
   "metadata": {},
   "source": [
    "## Problem 1.7"
   ]
  },
  {
   "cell_type": "markdown",
   "metadata": {},
   "source": [
    "A sample of heads and tails is created by tossing a coin a number of times independently. Assume we have a number of coins that generate different samples independently. For a given coin , let the probability of heads (probability of error) be $\\mu$. The probability of obtaining heads in tosses of this coin is given by the binomial distribution: $$ P[k|N,\\mu]=\\binom{N}{k}\\mu^k(1-\\mu)^{N-k}$$  \n",
    "Remember that the training error is $\\frac{k}{N}$."
   ]
  },
  {
   "cell_type": "markdown",
   "metadata": {},
   "source": [
    "(a)Assume the sample size $(N)$ is 10. If all the coins have $\\mu=0.05$. Compute the probability that at least one coin will have $v=0$ for the case of 1 coin, 1,000 coins, 1,000,000 coins. Repeat for $\\mu = 0.8$"
   ]
  },
  {
   "cell_type": "code",
   "execution_count": 13,
   "metadata": {},
   "outputs": [
    {
     "data": {
      "text/plain": [
       "0.09733159268316072"
      ]
     },
     "execution_count": 13,
     "metadata": {},
     "output_type": "execute_result"
    }
   ],
   "source": [
    "1 - pow(1 - pow(0.2, 10), 1000000)"
   ]
  },
  {
   "cell_type": "markdown",
   "metadata": {},
   "source": [
    "对于$\\mu = 0.05$  \n",
    "1枚硬币，$P_1 = (1-\\mu)^N = 0.05^{10}=0.5987369392383787$  \n",
    "1000枚硬币，$P_{1000} = 1- (1-P_1)^{1000}\\approx1$  \n",
    "1000000枚硬币，$P_{1000000} = 1- (1-P_1)^{1000000}\\approx1$"
   ]
  },
  {
   "cell_type": "markdown",
   "metadata": {},
   "source": [
    "对于$\\mu = 0.8$  \n",
    "1枚硬币，$P = \\mu^N = 0.05^{10}=1.0240000000000006e-07$  \n",
    "1000枚硬币，$P = \\mu^N = 1- (1-\\mu^{10})^{1000}=0.00010239476257623004$  \n",
    "1000000枚硬币，$P = \\mu^N = 1- (1-\\mu^{10})^{1000000}=0.09733159268316072$"
   ]
  },
  {
   "cell_type": "markdown",
   "metadata": {},
   "source": [
    "---"
   ]
  },
  {
   "cell_type": "markdown",
   "metadata": {},
   "source": [
    "(b)For the case $N = 6$ and $2$ coins with $\\mu=0.5$ for both coins, plot the probability:\n",
    "$$P[\\max_i |v_i-u_i| \\gt \\epsilon]$$\n",
    "for in the range $[0,1]$(the max is over coins). On the same plot show the bound that would be obtained using the $Hoeffding Inequality.$Remember that for a single coin, the Hoeffding bound is $$P[|v-u|\\gt \\epsilon]\\leq 2e^{-2\\epsilon^2N}$$\n",
    "\n",
    "\n",
    "\n",
    "[Hint: Use $P[A\\ or\\ B] = P[A] + P[B]-P[A\\ and\\ B] = P[A] + P[B] - P[A]P[B]$, where the last equality follows by\n",
    "independence, to evaluate P[max . . .]]"
   ]
  },
  {
   "cell_type": "markdown",
   "metadata": {},
   "source": [
    "$P[\\max_i |v_i-u_i| \\gt \\epsilon] = 1 - P[\\max_i |v_i-u_i| \\leq \\epsilon]$  \n",
    "因为$\\max_i |v_i-u_i| \\leq \\epsilon$,  \n",
    "所以$|v_1-u_1| \\leq \\epsilon$ 且 $|v_2-u_2| \\leq \\epsilon$.  \n",
    "所以:$$\\begin{aligned} P[\\max_i |v_i-u_i| \\gt \\epsilon] &= 1 - P[|v_i-u_i| \\leq \\epsilon] \\\\\n",
    "&= 1 - P[|v_1-u_1| \\leq \\epsilon]\\cdot P[|v_2-u_2| \\leq \\epsilon] \\\\\n",
    "&=1-P[|\\frac{k_1}{N}-\\frac{1}{2}| \\leq \\epsilon] \\cdot P[|\\frac{k_2}{N}-\\frac{1}{2}| \\leq \\epsilon] \\\\\n",
    "&=1-P[|\\frac{k_1}{6}-\\frac{1}{2}| \\leq \\epsilon] \\cdot P[|\\frac{k_2}{6}-\\frac{1}{2}| \\leq \\epsilon] \\\\\n",
    "&=1-P[3-6\\epsilon \\leq k_1 \\leq 3+6\\epsilon] \\cdot P[3-6\\epsilon \\leq k_2 \\leq 3+6\\epsilon] \\\\\n",
    "&=1-(\\sum_{3-6\\epsilon \\leq k_1 \\leq 3+6\\epsilon} \\binom{N}{k_1}\\mu^{k_2}(1-\\mu)^{6-k_1} \\ \\ ) \\cdot (\\sum_{3-6\\epsilon \\leq k_1 \\leq 3+6\\epsilon} \\binom{N}{k_2}\\mu^{k_2}(1-\\mu)^{6-k_2} \\ \\ ) \\\\\n",
    "&=1-(\\sum_{3-6\\epsilon \\leq k \\leq 3+6\\epsilon} \\binom{N}{k}\\mu^{k}(1-\\mu)^{6-k} \\ \\ )^2\n",
    "\\end{aligned}\n",
    "$$\n"
   ]
  },
  {
   "cell_type": "code",
   "execution_count": 52,
   "metadata": {},
   "outputs": [],
   "source": [
    "from scipy.special import comb # 排列组合\n",
    "import numpy as np\n",
    "\n",
    "epsilons = np.arange(0, 1, 0.01)\n",
    "sum_list = []\n",
    "N = 6\n",
    "u = 0.5\n",
    "for e in epsilons:\n",
    "    sum = 0\n",
    "    left = int(3 - 6 * e)\n",
    "    right = int(3 + 6 * e)\n",
    "    # 0 ≤ k ≤ N\n",
    "    if (left < 0): left = 0 \n",
    "    if (right > N): right = N \n",
    "    for k in range(left, right + 1):\n",
    "        sum += comb(N, k) * (u**k) * ((1 - u)**(N - k))\n",
    "    sum_list.append(sum)\n",
    "sum_arr = np.array(sum_list)\n",
    "p_max = 1 - sum_arr**2"
   ]
  },
  {
   "cell_type": "code",
   "execution_count": 53,
   "metadata": {},
   "outputs": [],
   "source": [
    "# hoeffding bound\n",
    "h = 2 * np.exp(-2 * N * epsilons**2)"
   ]
  },
  {
   "cell_type": "code",
   "execution_count": 55,
   "metadata": {},
   "outputs": [
    {
     "data": {
      "text/plain": [
       "<matplotlib.legend.Legend at 0x264d423ba90>"
      ]
     },
     "execution_count": 55,
     "metadata": {},
     "output_type": "execute_result"
    },
    {
     "data": {
      "image/png": "[encoded data removed]",
      "text/plain": [
       "<Figure size 432x288 with 1 Axes>"
      ]
     },
     "metadata": {
      "needs_background": "light"
     },
     "output_type": "display_data"
    }
   ],
   "source": [
    "import matplotlib.pyplot as plt\n",
    "\n",
    "plt.plot(epsilons, p_max, label=\"$P[\\max_i |v_i-u_i| ≥ \\epsilon]$\")\n",
    "plt.plot(epsilons, h, label = \"Hoeffding bound\")\n",
    "plt.xlabel(\"epsilons\")\n",
    "plt.ylabel(\"P\")\n",
    "plt.legend()"
   ]
  },
  {
   "cell_type": "code",
   "execution_count": null,
   "metadata": {},
   "outputs": [],
   "source": []
  }
 ],
 "metadata": {
  "kernelspec": {
   "display_name": "Python [conda env:tfenv]",
   "language": "python",
   "name": "conda-env-tfenv-py"
  },
  "language_info": {
   "codemirror_mode": {
    "name": "ipython",
    "version": 3
   },
   "file_extension": ".py",
   "mimetype": "text/x-python",
   "name": "python",
   "nbconvert_exporter": "python",
   "pygments_lexer": "ipython3",
   "version": "3.6.6"
  }
 },
 "nbformat": 4,
 "nbformat_minor": 2
}
